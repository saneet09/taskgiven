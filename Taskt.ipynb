{
  "nbformat": 4,
  "nbformat_minor": 0,
  "metadata": {
    "colab": {
      "name": "Task.ipynb",
      "provenance": [],
      "toc_visible": true
    },
    "kernelspec": {
      "name": "python3",
      "display_name": "Python 3"
    }
  },
  "cells": [
    {
      "cell_type": "markdown",
      "metadata": {
        "id": "Lkzn5PS74G2L",
        "colab_type": "text"
      },
      "source": [
        "# Task\n",
        "\n"
      ]
    },
    {
      "cell_type": "code",
      "metadata": {
        "id": "yT22zXvn4GdM",
        "colab_type": "code",
        "colab": {}
      },
      "source": [
        ""
      ],
      "execution_count": 0,
      "outputs": []
    },
    {
      "cell_type": "code",
      "metadata": {
        "id": "ew7hWhH65cdR",
        "colab_type": "code",
        "colab": {}
      },
      "source": [
        "import pandas as pd\n",
        "import numpy as np\n",
        "from sklearn.linear_model import LogisticRegression\n",
        "from sklearn.svm import SVC, LinearSVC\n",
        "from sklearn.neighbors import KNeighborsClassifier\n",
        "from sklearn.naive_bayes import GaussianNB\n",
        "from sklearn.tree import DecisionTreeClassifier\n",
        "from sklearn.ensemble import RandomForestClassifier"
      ],
      "execution_count": 0,
      "outputs": []
    },
    {
      "cell_type": "code",
      "metadata": {
        "id": "l3dKR7N43JXq",
        "colab_type": "code",
        "colab": {}
      },
      "source": [
        "df = pd.read_excel ('/content/drive/My Drive/task/Data_Science_2020_v2.xlsx')"
      ],
      "execution_count": 0,
      "outputs": []
    },
    {
      "cell_type": "code",
      "metadata": {
        "id": "gdaNvSK65ehH",
        "colab_type": "code",
        "colab": {
          "base_uri": "https://localhost:8080/",
          "height": 602
        },
        "outputId": "aa576fb9-890f-468d-ad92-de102abcc8bd"
      },
      "source": [
        "df.head()"
      ],
      "execution_count": 20,
      "outputs": [
        {
          "output_type": "execute_result",
          "data": {
            "text/html": [
              "<div>\n",
              "<style scoped>\n",
              "    .dataframe tbody tr th:only-of-type {\n",
              "        vertical-align: middle;\n",
              "    }\n",
              "\n",
              "    .dataframe tbody tr th {\n",
              "        vertical-align: top;\n",
              "    }\n",
              "\n",
              "    .dataframe thead th {\n",
              "        text-align: right;\n",
              "    }\n",
              "</style>\n",
              "<table border=\"1\" class=\"dataframe\">\n",
              "  <thead>\n",
              "    <tr style=\"text-align: right;\">\n",
              "      <th></th>\n",
              "      <th>Application_ID</th>\n",
              "      <th>Current City</th>\n",
              "      <th>Python (out of 3)</th>\n",
              "      <th>R Programming (out of 3)</th>\n",
              "      <th>Data Science (out of 3)</th>\n",
              "      <th>Other skills</th>\n",
              "      <th>Institute</th>\n",
              "      <th>Degree</th>\n",
              "      <th>Stream</th>\n",
              "      <th>Current Year Of Graduation</th>\n",
              "      <th>Performance_PG</th>\n",
              "      <th>Performance_UG</th>\n",
              "      <th>Performance_12</th>\n",
              "      <th>Performance_10</th>\n",
              "    </tr>\n",
              "  </thead>\n",
              "  <tbody>\n",
              "    <tr>\n",
              "      <th>0</th>\n",
              "      <td>DS0001</td>\n",
              "      <td>Bangalore</td>\n",
              "      <td>1</td>\n",
              "      <td>0</td>\n",
              "      <td>3</td>\n",
              "      <td>Machine Learning, Arduino, C Programming, CSS,...</td>\n",
              "      <td>Global Academy of Technology</td>\n",
              "      <td>Bachelor of Engineering (B.E)</td>\n",
              "      <td>Electrical and Electronics Engineering</td>\n",
              "      <td>2019</td>\n",
              "      <td>NaN</td>\n",
              "      <td>7.73/10</td>\n",
              "      <td>NaN</td>\n",
              "      <td>NaN</td>\n",
              "    </tr>\n",
              "    <tr>\n",
              "      <th>1</th>\n",
              "      <td>DS0002</td>\n",
              "      <td>Mumbai</td>\n",
              "      <td>2</td>\n",
              "      <td>1</td>\n",
              "      <td>2</td>\n",
              "      <td>AutoCAD, MS-Office, Machine Learning, Microsof...</td>\n",
              "      <td>Aegis School Of Business, Data Science, Cyber ...</td>\n",
              "      <td>NaN</td>\n",
              "      <td>PGP</td>\n",
              "      <td>2020</td>\n",
              "      <td>NaN</td>\n",
              "      <td>68.00/100</td>\n",
              "      <td>NaN</td>\n",
              "      <td>NaN</td>\n",
              "    </tr>\n",
              "    <tr>\n",
              "      <th>2</th>\n",
              "      <td>DS0003</td>\n",
              "      <td>Mumbai</td>\n",
              "      <td>2</td>\n",
              "      <td>0</td>\n",
              "      <td>0</td>\n",
              "      <td>C++ Programming, Data Structures, Image Proces...</td>\n",
              "      <td>VJTI, Mumbai</td>\n",
              "      <td>Bachelor of Technology (B.Tech)</td>\n",
              "      <td>Information Systems</td>\n",
              "      <td>2018</td>\n",
              "      <td>NaN</td>\n",
              "      <td>8.85/10</td>\n",
              "      <td>91.40/91.40</td>\n",
              "      <td>9.40/9.40</td>\n",
              "    </tr>\n",
              "    <tr>\n",
              "      <th>3</th>\n",
              "      <td>DS0004</td>\n",
              "      <td>Dhanbad</td>\n",
              "      <td>2</td>\n",
              "      <td>0</td>\n",
              "      <td>2</td>\n",
              "      <td>Algorithms, C++ Programming, Data Structures, ...</td>\n",
              "      <td>IIT (ISM) Dhanbad</td>\n",
              "      <td>Integrated M.Tech</td>\n",
              "      <td>Mathematics and Computing</td>\n",
              "      <td>2021</td>\n",
              "      <td>NaN</td>\n",
              "      <td>8.40/10</td>\n",
              "      <td>91.80/91.80</td>\n",
              "      <td>10.00/10.00</td>\n",
              "    </tr>\n",
              "    <tr>\n",
              "      <th>4</th>\n",
              "      <td>DS0005</td>\n",
              "      <td>Bangalore</td>\n",
              "      <td>2</td>\n",
              "      <td>0</td>\n",
              "      <td>0</td>\n",
              "      <td>MS-Word, Python, SQL, MS-Excel</td>\n",
              "      <td>Vvce</td>\n",
              "      <td>Bachelor of Engineering (B.E)</td>\n",
              "      <td>Electronics and Communication</td>\n",
              "      <td>2018</td>\n",
              "      <td>NaN</td>\n",
              "      <td>NaN</td>\n",
              "      <td>NaN</td>\n",
              "      <td>NaN</td>\n",
              "    </tr>\n",
              "  </tbody>\n",
              "</table>\n",
              "</div>"
            ],
            "text/plain": [
              "  Application_ID Current City  ...  Performance_12  Performance_10\n",
              "0         DS0001    Bangalore  ...             NaN             NaN\n",
              "1         DS0002       Mumbai  ...             NaN             NaN\n",
              "2         DS0003       Mumbai  ...     91.40/91.40       9.40/9.40\n",
              "3         DS0004      Dhanbad  ...     91.80/91.80     10.00/10.00\n",
              "4         DS0005    Bangalore  ...             NaN             NaN\n",
              "\n",
              "[5 rows x 14 columns]"
            ]
          },
          "metadata": {
            "tags": []
          },
          "execution_count": 20
        }
      ]
    },
    {
      "cell_type": "markdown",
      "metadata": {
        "id": "e9sh57V94Vlw",
        "colab_type": "text"
      },
      "source": [
        "# Observation\n",
        "In the given task there is no need of stream and performance_PG,performance_UG,performance_12,performance_10 has nan in many cells"
      ]
    },
    {
      "cell_type": "code",
      "metadata": {
        "id": "UYazhEVC5nEO",
        "colab_type": "code",
        "colab": {}
      },
      "source": [
        "df.drop(['Application_ID','Current City','Institute','Stream','Performance_PG','Performance_UG','Performance_12','Performance_10'],axis=1,inplace=True)"
      ],
      "execution_count": 0,
      "outputs": []
    },
    {
      "cell_type": "code",
      "metadata": {
        "id": "-g-HjIW96igE",
        "colab_type": "code",
        "colab": {}
      },
      "source": [
        "df=df.rename(columns={\"Python (out of 3)\": \"Python\", \"R Programming (out of 3)\": \"R\",\"Data Science (out of 3)\": \"Data Science\"})"
      ],
      "execution_count": 0,
      "outputs": []
    },
    {
      "cell_type": "markdown",
      "metadata": {
        "id": "krOvvWxrcs5V",
        "colab_type": "text"
      },
      "source": [
        "# EDA"
      ]
    },
    {
      "cell_type": "code",
      "metadata": {
        "id": "xIK3cYZeGn9W",
        "colab_type": "code",
        "colab": {
          "base_uri": "https://localhost:8080/",
          "height": 134
        },
        "outputId": "1a04638f-b70b-4c28-e462-13cb54081f81"
      },
      "source": [
        "df.dtypes"
      ],
      "execution_count": 23,
      "outputs": [
        {
          "output_type": "execute_result",
          "data": {
            "text/plain": [
              "Python                         int64\n",
              "R                              int64\n",
              "Data Science                   int64\n",
              "Other skills                  object\n",
              "Degree                        object\n",
              "Current Year Of Graduation     int64\n",
              "dtype: object"
            ]
          },
          "metadata": {
            "tags": []
          },
          "execution_count": 23
        }
      ]
    },
    {
      "cell_type": "code",
      "metadata": {
        "id": "ItOyJ7yb6ido",
        "colab_type": "code",
        "colab": {}
      },
      "source": [
        "df.loc[df['Python'] == 3, ['Python']] = 10\n",
        "df.loc[df['Python'] == 1, ['Python']] = 3\n",
        "df.loc[df['Python'] == 2, ['Python']] = 7\n",
        "\n",
        "\n",
        "df.loc[df['R'] == 3, ['R']] = 10\n",
        "df.loc[df['R'] == 1, ['R']] = 3\n",
        "df.loc[df['R'] == 2, ['R']] = 7\n",
        "\n",
        " \n",
        "df.loc[df['Data Science'] == 3, ['Data Science']] = 10\n",
        "df.loc[df['Data Science'] == 1, ['Data Science']] = 3\n",
        "df.loc[df['Data Science'] == 2, ['Data Science']] = 7 "
      ],
      "execution_count": 0,
      "outputs": []
    },
    {
      "cell_type": "code",
      "metadata": {
        "id": "X5SYa-B26ibe",
        "colab_type": "code",
        "colab": {
          "base_uri": "https://localhost:8080/",
          "height": 402
        },
        "outputId": "007310ac-08fe-430f-cfef-7bd6513e708e"
      },
      "source": [
        "df"
      ],
      "execution_count": 25,
      "outputs": [
        {
          "output_type": "execute_result",
          "data": {
            "text/html": [
              "<div>\n",
              "<style scoped>\n",
              "    .dataframe tbody tr th:only-of-type {\n",
              "        vertical-align: middle;\n",
              "    }\n",
              "\n",
              "    .dataframe tbody tr th {\n",
              "        vertical-align: top;\n",
              "    }\n",
              "\n",
              "    .dataframe thead th {\n",
              "        text-align: right;\n",
              "    }\n",
              "</style>\n",
              "<table border=\"1\" class=\"dataframe\">\n",
              "  <thead>\n",
              "    <tr style=\"text-align: right;\">\n",
              "      <th></th>\n",
              "      <th>Python</th>\n",
              "      <th>R</th>\n",
              "      <th>Data Science</th>\n",
              "      <th>Other skills</th>\n",
              "      <th>Degree</th>\n",
              "      <th>Current Year Of Graduation</th>\n",
              "    </tr>\n",
              "  </thead>\n",
              "  <tbody>\n",
              "    <tr>\n",
              "      <th>0</th>\n",
              "      <td>3</td>\n",
              "      <td>0</td>\n",
              "      <td>10</td>\n",
              "      <td>Machine Learning, Arduino, C Programming, CSS,...</td>\n",
              "      <td>Bachelor of Engineering (B.E)</td>\n",
              "      <td>2019</td>\n",
              "    </tr>\n",
              "    <tr>\n",
              "      <th>1</th>\n",
              "      <td>7</td>\n",
              "      <td>3</td>\n",
              "      <td>7</td>\n",
              "      <td>AutoCAD, MS-Office, Machine Learning, Microsof...</td>\n",
              "      <td>NaN</td>\n",
              "      <td>2020</td>\n",
              "    </tr>\n",
              "    <tr>\n",
              "      <th>2</th>\n",
              "      <td>7</td>\n",
              "      <td>0</td>\n",
              "      <td>0</td>\n",
              "      <td>C++ Programming, Data Structures, Image Proces...</td>\n",
              "      <td>Bachelor of Technology (B.Tech)</td>\n",
              "      <td>2018</td>\n",
              "    </tr>\n",
              "    <tr>\n",
              "      <th>3</th>\n",
              "      <td>7</td>\n",
              "      <td>0</td>\n",
              "      <td>7</td>\n",
              "      <td>Algorithms, C++ Programming, Data Structures, ...</td>\n",
              "      <td>Integrated M.Tech</td>\n",
              "      <td>2021</td>\n",
              "    </tr>\n",
              "    <tr>\n",
              "      <th>4</th>\n",
              "      <td>7</td>\n",
              "      <td>0</td>\n",
              "      <td>0</td>\n",
              "      <td>MS-Word, Python, SQL, MS-Excel</td>\n",
              "      <td>Bachelor of Engineering (B.E)</td>\n",
              "      <td>2018</td>\n",
              "    </tr>\n",
              "    <tr>\n",
              "      <th>...</th>\n",
              "      <td>...</td>\n",
              "      <td>...</td>\n",
              "      <td>...</td>\n",
              "      <td>...</td>\n",
              "      <td>...</td>\n",
              "      <td>...</td>\n",
              "    </tr>\n",
              "    <tr>\n",
              "      <th>606</th>\n",
              "      <td>7</td>\n",
              "      <td>7</td>\n",
              "      <td>7</td>\n",
              "      <td>AutoCAD, MS-Excel, Deep Learning, Machine Lear...</td>\n",
              "      <td>Bachelor of Engineering (B.E)</td>\n",
              "      <td>2020</td>\n",
              "    </tr>\n",
              "    <tr>\n",
              "      <th>607</th>\n",
              "      <td>3</td>\n",
              "      <td>0</td>\n",
              "      <td>0</td>\n",
              "      <td>MS-Excel, HTML, Python, SQL</td>\n",
              "      <td>PG Diploma in Data Science</td>\n",
              "      <td>2020</td>\n",
              "    </tr>\n",
              "    <tr>\n",
              "      <th>608</th>\n",
              "      <td>7</td>\n",
              "      <td>7</td>\n",
              "      <td>0</td>\n",
              "      <td>Data Analytics, Machine Learning, Natural Lang...</td>\n",
              "      <td>Bachelor of Technology (B.Tech)</td>\n",
              "      <td>2016</td>\n",
              "    </tr>\n",
              "    <tr>\n",
              "      <th>609</th>\n",
              "      <td>10</td>\n",
              "      <td>7</td>\n",
              "      <td>7</td>\n",
              "      <td>Data Analytics, Machine Learning, Python, C Pr...</td>\n",
              "      <td>Bachelor of Science (B.Sc)</td>\n",
              "      <td>2018</td>\n",
              "    </tr>\n",
              "    <tr>\n",
              "      <th>610</th>\n",
              "      <td>7</td>\n",
              "      <td>7</td>\n",
              "      <td>0</td>\n",
              "      <td>Computer Vision, Data Analytics, Image Process...</td>\n",
              "      <td>Master of Technology (M.Tech)</td>\n",
              "      <td>2016</td>\n",
              "    </tr>\n",
              "  </tbody>\n",
              "</table>\n",
              "<p>611 rows × 6 columns</p>\n",
              "</div>"
            ],
            "text/plain": [
              "     Python  R  ...                           Degree Current Year Of Graduation\n",
              "0         3  0  ...    Bachelor of Engineering (B.E)                       2019\n",
              "1         7  3  ...                              NaN                       2020\n",
              "2         7  0  ...  Bachelor of Technology (B.Tech)                       2018\n",
              "3         7  0  ...                Integrated M.Tech                       2021\n",
              "4         7  0  ...    Bachelor of Engineering (B.E)                       2018\n",
              "..      ... ..  ...                              ...                        ...\n",
              "606       7  7  ...    Bachelor of Engineering (B.E)                       2020\n",
              "607       3  0  ...       PG Diploma in Data Science                       2020\n",
              "608       7  7  ...  Bachelor of Technology (B.Tech)                       2016\n",
              "609      10  7  ...       Bachelor of Science (B.Sc)                       2018\n",
              "610       7  7  ...    Master of Technology (M.Tech)                       2016\n",
              "\n",
              "[611 rows x 6 columns]"
            ]
          },
          "metadata": {
            "tags": []
          },
          "execution_count": 25
        }
      ]
    },
    {
      "cell_type": "code",
      "metadata": {
        "id": "ziJxS49fJXdp",
        "colab_type": "code",
        "colab": {
          "base_uri": "https://localhost:8080/",
          "height": 487
        },
        "outputId": "6d135184-0ae1-4fed-8289-9f4e05113d34"
      },
      "source": [
        "df['Degree'].unique()"
      ],
      "execution_count": 26,
      "outputs": [
        {
          "output_type": "execute_result",
          "data": {
            "text/plain": [
              "array(['Bachelor of Engineering (B.E)', nan,\n",
              "       'Bachelor of Technology (B.Tech)', 'Integrated M.Tech',\n",
              "       'B.Tech (Hons.)', 'Master of Business Administration_(MBA)', 'MBA',\n",
              "       'Master of Science (M.Sc)', 'Post Graduate Programme (PGP)',\n",
              "       'Master of Computer Applications (MCA)',\n",
              "       'Bachelor of Pharmacy (B.Pharm)', 'Integrated MCA',\n",
              "       'Bachelor of Commerce (B.Com)', 'Master of Technology (M.Tech)',\n",
              "       'Integrated B.Sc. & M.Sc.', 'Post Graduate Diploma',\n",
              "       'Integrated M.Sc.', 'Master of Arts (M.A.)',\n",
              "       'PG Diploma in Data Science', 'Bachelor of Science (B.Sc)',\n",
              "       'Integrated B.Tech', 'Master of Statistics (M.Stat)',\n",
              "       'Post Graduate Diploma in Management (P.G.D.M.)',\n",
              "       'Master of Engineering (M.E)', 'Master Of Analytics',\n",
              "       'Bachelor of Computer Applications (BCA)',\n",
              "       'Integrated B.S. & M.S.', 'Bachelor of Science (B.Sc) (Hons.)',\n",
              "       'Bachelor of Computer Science (B.C.S.)',\n",
              "       'Master of Science (M.S.)', 'Master of Science (M.Sc) (Hons.)',\n",
              "       'Integrated B.Tech & M.Tech', 'Integrated B.Tech & MBA',\n",
              "       'Bachelor of Mathematics (B.Math) (Hons.)',\n",
              "       'Post Graduate Diploma in Business Management (P.G.D.B.M.)',\n",
              "       'Executive MBA',\n",
              "       'Post Graduate Diploma in Big Data Analytics (PG-DBDA)',\n",
              "       'Bachelor of Engineering (B.E) (Hons.)',\n",
              "       'Bachelor of Business Management (B.B.M.)',\n",
              "       'Bachelor of Commerce (B.Com) (Hons.)',\n",
              "       'Post Graduate Program in Business Analytics',\n",
              "       'B.Com. Professional',\n",
              "       'Bachelor of Business Administration (B.B.A.)'], dtype=object)"
            ]
          },
          "metadata": {
            "tags": []
          },
          "execution_count": 26
        }
      ]
    },
    {
      "cell_type": "code",
      "metadata": {
        "id": "LVzC1rEKRSxZ",
        "colab_type": "code",
        "colab": {}
      },
      "source": [
        "df['degreescore']=0\n",
        "df['skillscore']=0"
      ],
      "execution_count": 0,
      "outputs": []
    },
    {
      "cell_type": "code",
      "metadata": {
        "id": "2UpCOLhnPazZ",
        "colab_type": "code",
        "colab": {}
      },
      "source": [
        "#bachelor\n",
        "df.loc[(df[\"Degree\"] == \"Bachelor of Engineering (B.E)\") | (df[\"Degree\"] == \"Bachelor of Technology (B.Tech)\") | (df[\"Degree\"] == \"B.Tech (Hons.)\") | (df[\"Degree\"] == \"Bachelor of Engineering (B.E) (Hons.)\") | (df[\"Degree\"] == \"Integrated B.Tech & M.Tech\") | (df[\"Degree\"] == \"Integrated B.Tech & MBA\") & (df[\"Current Year Of Graduation\"] > 2020) , \"degreescore\"] += 0\n",
        "df.loc[(df[\"Degree\"] == \"Bachelor of Engineering (B.E)\") | (df[\"Degree\"] == \"Bachelor of Technology (B.Tech)\") | (df[\"Degree\"] == \"B.Tech (Hons.)\") | (df[\"Degree\"] == \"Bachelor of Engineering (B.E) (Hons.)\") | (df[\"Degree\"] == \"Integrated B.Tech & M.Tech\") | (df[\"Degree\"] == \"Integrated B.Tech & MBA\") & (df[\"Current Year Of Graduation\"] == 2020) , \"degreescore\"] += 10\n",
        "df.loc[(df[\"Degree\"] == \"Bachelor of Engineering (B.E)\") | (df[\"Degree\"] == \"Bachelor of Technology (B.Tech)\") | (df[\"Degree\"] == \"B.Tech (Hons.)\") | (df[\"Degree\"] == \"Bachelor of Engineering (B.E) (Hons.)\") | (df[\"Degree\"] == \"Integrated B.Tech & M.Tech\") | (df[\"Degree\"] == \"Integrated B.Tech & MBA\") & (df[\"Current Year Of Graduation\"] == 2019) , \"degreescore\"] += 8\n",
        "df.loc[(df[\"Degree\"] == \"Bachelor of Engineering (B.E)\") | (df[\"Degree\"] == \"Bachelor of Technology (B.Tech)\") | (df[\"Degree\"] == \"B.Tech (Hons.)\") | (df[\"Degree\"] == \"Bachelor of Engineering (B.E) (Hons.)\") | (df[\"Degree\"] == \"Integrated B.Tech & M.Tech\") | (df[\"Degree\"] == \"Integrated B.Tech & MBA\") & (df[\"Current Year Of Graduation\"] <= 2018) , \"degreescore\"] += 5\n",
        "#masters\n",
        "df.loc[(df[\"Degree\"] == \"Master of Science (M.Sc)\") |  (df[\"Degree\"] == \"Master of Technology (M.Tech)\")| (df[\"Degree\"] == \"Integrated B.Sc. & M.Sc.\")| (df[\"Degree\"] == \"Integrated M.Sc.\")| (df[\"Degree\"] == \"Master of Science (M.S.)\")| (df[\"Degree\"] == \"Master of Science (M.Sc) (Hons.)\")| (df[\"Degree\"] == \"Integrated B.Tech & M.Tech\") & (df[\"Current Year Of Graduation\"] > 2020) , \"degreescore\"] += 0\n",
        "df.loc[(df[\"Degree\"] == \"Master of Science (M.Sc)\") |  (df[\"Degree\"] == \"Master of Technology (M.Tech)\")| (df[\"Degree\"] == \"Integrated B.Sc. & M.Sc.\")| (df[\"Degree\"] == \"Integrated M.Sc.\")| (df[\"Degree\"] == \"Master of Science (M.S.)\")| (df[\"Degree\"] == \"Master of Science (M.Sc) (Hons.)\")| (df[\"Degree\"] == \"Integrated B.Tech & M.Tech\") & (df[\"Current Year Of Graduation\"] == 2020) , \"degreescore\"] += 7\n",
        "df.loc[(df[\"Degree\"] == \"Master of Science (M.Sc)\") |  (df[\"Degree\"] == \"Master of Technology (M.Tech)\")| (df[\"Degree\"] == \"Integrated B.Sc. & M.Sc.\")| (df[\"Degree\"] == \"Integrated M.Sc.\")| (df[\"Degree\"] == \"Master of Science (M.S.)\")| (df[\"Degree\"] == \"Master of Science (M.Sc) (Hons.)\")| (df[\"Degree\"] == \"Integrated B.Tech & M.Tech\") & (df[\"Current Year Of Graduation\"] <= 2019) , \"degreescore\"] += 3\n"
      ],
      "execution_count": 0,
      "outputs": []
    },
    {
      "cell_type": "code",
      "metadata": {
        "id": "47SBjheec_7c",
        "colab_type": "code",
        "colab": {}
      },
      "source": [
        ""
      ],
      "execution_count": 0,
      "outputs": []
    },
    {
      "cell_type": "code",
      "metadata": {
        "id": "MYeHp0LWZ6Ym",
        "colab_type": "code",
        "colab": {
          "base_uri": "https://localhost:8080/",
          "height": 70
        },
        "outputId": "79aef1c1-d2ac-4cb5-b1e1-26b8fea80deb"
      },
      "source": [
        "df.loc[(df['Other skills'].str.contains('Machine Learning',na=False)),\"skillscore\"] += 3\n",
        "df.loc[(df['Other skills'].str.contains('Deep Learning',na=False)),\"skillscore\"] += 3\n",
        "df.loc[(df['Other skills'].str.contains('Natural Language Processing (NLP)',na=False)),\"skillscore\"] += 3\n",
        "df.loc[(df['Other skills'].str.contains('Data Analytics',na=False)),\"skillscore\"] += 3\n",
        "df.loc[(df['Other skills'].str.contains('Amazon Web Services (AWS)',na=False)),\"skillscore\"] += 3\n",
        "df.loc[(df['Other skills'].str.contains('SQL',na=False)) | (df['Other skills'].str.contains('MySQL',na=False)) ,\"skillscore\"] += 3\n",
        "df.loc[(df['Other skills'].str.contains('MS-Excel',na=False)) | (df['Other skills'].str.contains('MS-Office',na=False)) ,\"skillscore\"] += 3\n"
      ],
      "execution_count": 29,
      "outputs": [
        {
          "output_type": "stream",
          "text": [
            "/usr/local/lib/python3.6/dist-packages/pandas/core/strings.py:1843: UserWarning: This pattern has match groups. To actually get the groups, use str.extract.\n",
            "  return func(self, *args, **kwargs)\n"
          ],
          "name": "stderr"
        }
      ]
    },
    {
      "cell_type": "code",
      "metadata": {
        "id": "u177Qaa46iV2",
        "colab_type": "code",
        "colab": {}
      },
      "source": [
        "df"
      ],
      "execution_count": 0,
      "outputs": []
    },
    {
      "cell_type": "code",
      "metadata": {
        "id": "6PPuAyRKPZaX",
        "colab_type": "code",
        "colab": {}
      },
      "source": [
        "df.drop(['Other skills','Degree','Current Year Of Graduation'],axis=1,inplace=True)"
      ],
      "execution_count": 0,
      "outputs": []
    },
    {
      "cell_type": "code",
      "metadata": {
        "id": "9k3OOtwrPZXY",
        "colab_type": "code",
        "colab": {}
      },
      "source": [
        "df['total']=df['Python']+df['R']+df['Data Science']+df['degreescore']+df['skillscore']"
      ],
      "execution_count": 0,
      "outputs": []
    },
    {
      "cell_type": "code",
      "metadata": {
        "id": "XImCQrrcPZUu",
        "colab_type": "code",
        "colab": {}
      },
      "source": [
        "df['lable']=0\n",
        "df.loc[(df[\"total\"] >= 40),'lable']=1 \n",
        "df.drop(['total'],axis=1,inplace=True)     "
      ],
      "execution_count": 0,
      "outputs": []
    },
    {
      "cell_type": "code",
      "metadata": {
        "id": "MGHmbZPJgaYT",
        "colab_type": "code",
        "colab": {}
      },
      "source": [
        "y_true=df['lable']"
      ],
      "execution_count": 0,
      "outputs": []
    },
    {
      "cell_type": "code",
      "metadata": {
        "id": "1UrmfStNPZRy",
        "colab_type": "code",
        "colab": {
          "base_uri": "https://localhost:8080/",
          "height": 402
        },
        "outputId": "778b477d-8b8a-40ef-c069-20b612dd5dc2"
      },
      "source": [
        "df"
      ],
      "execution_count": 149,
      "outputs": [
        {
          "output_type": "execute_result",
          "data": {
            "text/html": [
              "<div>\n",
              "<style scoped>\n",
              "    .dataframe tbody tr th:only-of-type {\n",
              "        vertical-align: middle;\n",
              "    }\n",
              "\n",
              "    .dataframe tbody tr th {\n",
              "        vertical-align: top;\n",
              "    }\n",
              "\n",
              "    .dataframe thead th {\n",
              "        text-align: right;\n",
              "    }\n",
              "</style>\n",
              "<table border=\"1\" class=\"dataframe\">\n",
              "  <thead>\n",
              "    <tr style=\"text-align: right;\">\n",
              "      <th></th>\n",
              "      <th>Python</th>\n",
              "      <th>R</th>\n",
              "      <th>Data Science</th>\n",
              "      <th>degreescore</th>\n",
              "      <th>skillscore</th>\n",
              "      <th>lable</th>\n",
              "    </tr>\n",
              "  </thead>\n",
              "  <tbody>\n",
              "    <tr>\n",
              "      <th>0</th>\n",
              "      <td>3</td>\n",
              "      <td>0</td>\n",
              "      <td>10</td>\n",
              "      <td>23</td>\n",
              "      <td>9</td>\n",
              "      <td>1</td>\n",
              "    </tr>\n",
              "    <tr>\n",
              "      <th>1</th>\n",
              "      <td>7</td>\n",
              "      <td>3</td>\n",
              "      <td>7</td>\n",
              "      <td>0</td>\n",
              "      <td>12</td>\n",
              "      <td>0</td>\n",
              "    </tr>\n",
              "    <tr>\n",
              "      <th>2</th>\n",
              "      <td>7</td>\n",
              "      <td>0</td>\n",
              "      <td>0</td>\n",
              "      <td>23</td>\n",
              "      <td>0</td>\n",
              "      <td>0</td>\n",
              "    </tr>\n",
              "    <tr>\n",
              "      <th>3</th>\n",
              "      <td>7</td>\n",
              "      <td>0</td>\n",
              "      <td>7</td>\n",
              "      <td>0</td>\n",
              "      <td>9</td>\n",
              "      <td>0</td>\n",
              "    </tr>\n",
              "    <tr>\n",
              "      <th>4</th>\n",
              "      <td>7</td>\n",
              "      <td>0</td>\n",
              "      <td>0</td>\n",
              "      <td>23</td>\n",
              "      <td>6</td>\n",
              "      <td>0</td>\n",
              "    </tr>\n",
              "    <tr>\n",
              "      <th>...</th>\n",
              "      <td>...</td>\n",
              "      <td>...</td>\n",
              "      <td>...</td>\n",
              "      <td>...</td>\n",
              "      <td>...</td>\n",
              "      <td>...</td>\n",
              "    </tr>\n",
              "    <tr>\n",
              "      <th>606</th>\n",
              "      <td>7</td>\n",
              "      <td>7</td>\n",
              "      <td>7</td>\n",
              "      <td>23</td>\n",
              "      <td>12</td>\n",
              "      <td>1</td>\n",
              "    </tr>\n",
              "    <tr>\n",
              "      <th>607</th>\n",
              "      <td>3</td>\n",
              "      <td>0</td>\n",
              "      <td>0</td>\n",
              "      <td>0</td>\n",
              "      <td>6</td>\n",
              "      <td>0</td>\n",
              "    </tr>\n",
              "    <tr>\n",
              "      <th>608</th>\n",
              "      <td>7</td>\n",
              "      <td>7</td>\n",
              "      <td>0</td>\n",
              "      <td>23</td>\n",
              "      <td>9</td>\n",
              "      <td>1</td>\n",
              "    </tr>\n",
              "    <tr>\n",
              "      <th>609</th>\n",
              "      <td>10</td>\n",
              "      <td>7</td>\n",
              "      <td>7</td>\n",
              "      <td>0</td>\n",
              "      <td>15</td>\n",
              "      <td>0</td>\n",
              "    </tr>\n",
              "    <tr>\n",
              "      <th>610</th>\n",
              "      <td>7</td>\n",
              "      <td>7</td>\n",
              "      <td>0</td>\n",
              "      <td>10</td>\n",
              "      <td>9</td>\n",
              "      <td>0</td>\n",
              "    </tr>\n",
              "  </tbody>\n",
              "</table>\n",
              "<p>611 rows × 6 columns</p>\n",
              "</div>"
            ],
            "text/plain": [
              "     Python  R  Data Science  degreescore  skillscore  lable\n",
              "0         3  0            10           23           9      1\n",
              "1         7  3             7            0          12      0\n",
              "2         7  0             0           23           0      0\n",
              "3         7  0             7            0           9      0\n",
              "4         7  0             0           23           6      0\n",
              "..      ... ..           ...          ...         ...    ...\n",
              "606       7  7             7           23          12      1\n",
              "607       3  0             0            0           6      0\n",
              "608       7  7             0           23           9      1\n",
              "609      10  7             7            0          15      0\n",
              "610       7  7             0           10           9      0\n",
              "\n",
              "[611 rows x 6 columns]"
            ]
          },
          "metadata": {
            "tags": []
          },
          "execution_count": 149
        }
      ]
    },
    {
      "cell_type": "markdown",
      "metadata": {
        "id": "Ku5B6kB14vfI",
        "colab_type": "text"
      },
      "source": [
        "The final data set"
      ]
    },
    {
      "cell_type": "code",
      "metadata": {
        "id": "DymOKGQs5CcB",
        "colab_type": "code",
        "colab": {}
      },
      "source": [
        "y=np.array(df['lable'])\n",
        "x=np.array(df.drop(['lable'],axis=1))"
      ],
      "execution_count": 0,
      "outputs": []
    },
    {
      "cell_type": "code",
      "metadata": {
        "id": "LY5IwAXwPZPP",
        "colab_type": "code",
        "colab": {}
      },
      "source": [
        "from sklearn.model_selection import train_test_split\n",
        "X_train,X_test,y_train,y_test=train_test_split(x,y,test_size=0.3,random_state=42)"
      ],
      "execution_count": 0,
      "outputs": []
    },
    {
      "cell_type": "markdown",
      "metadata": {
        "id": "K6DgEIu_56Of",
        "colab_type": "text"
      },
      "source": [
        "# Logistic Regression"
      ]
    },
    {
      "cell_type": "code",
      "metadata": {
        "id": "8uCUnF5aatwX",
        "colab_type": "code",
        "colab": {
          "base_uri": "https://localhost:8080/",
          "height": 118
        },
        "outputId": "7b2e2dd4-042e-4c6f-f73b-b33d3c1672de"
      },
      "source": [
        "import warnings\n",
        "warnings.filterwarnings(\"ignore\")\n",
        "tuned_parameters = [{'C': [10**-4, 10**-2, 10**0, 10**2, 10**4],'penalty': ['l1', 'l2'],'max_iter':[10,20,30,40,50,60]}]\n",
        "model = GridSearchCV(LogisticRegression(), tuned_parameters, scoring = 'accuracy', cv=5)\n",
        "model.fit(X_train, y_train)\n",
        "\n",
        "print(model.best_estimator_)\n",
        "print(model.score(X_test, y_test))"
      ],
      "execution_count": 139,
      "outputs": [
        {
          "output_type": "stream",
          "text": [
            "LogisticRegression(C=10000, class_weight=None, dual=False, fit_intercept=True,\n",
            "                   intercept_scaling=1, l1_ratio=None, max_iter=40,\n",
            "                   multi_class='auto', n_jobs=None, penalty='l2',\n",
            "                   random_state=None, solver='lbfgs', tol=0.0001, verbose=0,\n",
            "                   warm_start=False)\n",
            "0.9891304347826086\n"
          ],
          "name": "stdout"
        }
      ]
    },
    {
      "cell_type": "code",
      "metadata": {
        "id": "YqDjOR1YPZMJ",
        "colab_type": "code",
        "colab": {}
      },
      "source": [
        "lr = LogisticRegression(C=10000, class_weight=None, dual=False, fit_intercept=True,\n",
        "                        intercept_scaling=1, l1_ratio=None, max_iter=40,\n",
        "                        multi_class='auto', n_jobs=None, penalty='l2',\n",
        "                        random_state=None, solver='lbfgs', tol=0.0001, verbose=0,\n",
        "                        warm_start=False)\n",
        "lr.fit(X_train, y_train)\n",
        "Y_pred = lr.predict(X_test)"
      ],
      "execution_count": 0,
      "outputs": []
    },
    {
      "cell_type": "code",
      "metadata": {
        "id": "rRDGpQHBPZJh",
        "colab_type": "code",
        "colab": {
          "base_uri": "https://localhost:8080/",
          "height": 34
        },
        "outputId": "857a3153-9517-4f55-f52e-900f45bee95b"
      },
      "source": [
        "lracc=lr.score(X_test, y_test)\n",
        "lracc"
      ],
      "execution_count": 142,
      "outputs": [
        {
          "output_type": "execute_result",
          "data": {
            "text/plain": [
              "0.9891304347826086"
            ]
          },
          "metadata": {
            "tags": []
          },
          "execution_count": 142
        }
      ]
    },
    {
      "cell_type": "code",
      "metadata": {
        "id": "_6beuMtU-R6C",
        "colab_type": "code",
        "colab": {
          "base_uri": "https://localhost:8080/",
          "height": 50
        },
        "outputId": "6f2be716-bb21-4751-b829-1f905b46a0a6"
      },
      "source": [
        "from sklearn.metrics import confusion_matrix\n",
        "confusion_matrix(y_test,Y_pred)"
      ],
      "execution_count": 143,
      "outputs": [
        {
          "output_type": "execute_result",
          "data": {
            "text/plain": [
              "array([[124,   0],\n",
              "       [  2,  58]])"
            ]
          },
          "metadata": {
            "tags": []
          },
          "execution_count": 143
        }
      ]
    },
    {
      "cell_type": "markdown",
      "metadata": {
        "id": "DHiDfb686bqQ",
        "colab_type": "text"
      },
      "source": [
        "# SVM"
      ]
    },
    {
      "cell_type": "code",
      "metadata": {
        "id": "8Ce-bvmzYs1P",
        "colab_type": "code",
        "colab": {
          "base_uri": "https://localhost:8080/",
          "height": 1000
        },
        "outputId": "5c300960-b7b2-4d8c-df83-a186f47f87a4"
      },
      "source": [
        "param_grid = {'C': [0.1, 1, 10, 100, 1000],  \n",
        "              'gamma': [1, 0.1, 0.01, 0.001, 0.0001], \n",
        "              'kernel': ['rbf']} \n",
        "grid = GridSearchCV(SVC(), param_grid, refit = True, verbose = 3) \n",
        "grid.fit(X_train, y_train) \n",
        "print(grid.best_estimator_)  "
      ],
      "execution_count": 132,
      "outputs": [
        {
          "output_type": "stream",
          "text": [
            "Fitting 5 folds for each of 25 candidates, totalling 125 fits\n",
            "[CV] C=0.1, gamma=1, kernel=rbf ......................................\n",
            "[CV] .......... C=0.1, gamma=1, kernel=rbf, score=0.733, total=   0.0s\n",
            "[CV] C=0.1, gamma=1, kernel=rbf ......................................\n",
            "[CV] .......... C=0.1, gamma=1, kernel=rbf, score=0.709, total=   0.0s\n",
            "[CV] C=0.1, gamma=1, kernel=rbf ......................................\n",
            "[CV] .......... C=0.1, gamma=1, kernel=rbf, score=0.776, total=   0.0s\n",
            "[CV] C=0.1, gamma=1, kernel=rbf ......................................\n",
            "[CV] .......... C=0.1, gamma=1, kernel=rbf, score=0.776, total=   0.0s\n",
            "[CV] C=0.1, gamma=1, kernel=rbf ......................................\n",
            "[CV] .......... C=0.1, gamma=1, kernel=rbf, score=0.776, total=   0.0s\n",
            "[CV] C=0.1, gamma=0.1, kernel=rbf ....................................\n",
            "[CV] ........ C=0.1, gamma=0.1, kernel=rbf, score=0.779, total=   0.0s\n",
            "[CV] C=0.1, gamma=0.1, kernel=rbf ....................................\n",
            "[CV] ........ C=0.1, gamma=0.1, kernel=rbf, score=0.756, total=   0.0s\n",
            "[CV] C=0.1, gamma=0.1, kernel=rbf ....................................\n",
            "[CV] ........ C=0.1, gamma=0.1, kernel=rbf, score=0.812, total=   0.0s\n",
            "[CV] C=0.1, gamma=0.1, kernel=rbf ....................................\n",
            "[CV] ........ C=0.1, gamma=0.1, kernel=rbf, score=0.824, total=   0.0s\n",
            "[CV] C=0.1, gamma=0.1, kernel=rbf ....................................\n",
            "[CV] ........ C=0.1, gamma=0.1, kernel=rbf, score=0.800, total=   0.0s\n",
            "[CV] C=0.1, gamma=0.01, kernel=rbf ...................................\n",
            "[CV] ....... C=0.1, gamma=0.01, kernel=rbf, score=0.907, total=   0.0s\n",
            "[CV] C=0.1, gamma=0.01, kernel=rbf ...................................\n",
            "[CV] ....... C=0.1, gamma=0.01, kernel=rbf, score=0.977, total=   0.0s\n",
            "[CV] C=0.1, gamma=0.01, kernel=rbf ...................................\n",
            "[CV] ....... C=0.1, gamma=0.01, kernel=rbf, score=1.000, total=   0.0s\n",
            "[CV] C=0.1, gamma=0.01, kernel=rbf ...................................\n",
            "[CV] ....... C=0.1, gamma=0.01, kernel=rbf, score=0.965, total=   0.0s\n",
            "[CV] C=0.1, gamma=0.01, kernel=rbf ...................................\n",
            "[CV] ....... C=0.1, gamma=0.01, kernel=rbf, score=0.941, total=   0.0s\n",
            "[CV] C=0.1, gamma=0.001, kernel=rbf ..................................\n",
            "[CV] ...... C=0.1, gamma=0.001, kernel=rbf, score=0.802, total=   0.0s\n",
            "[CV] C=0.1, gamma=0.001, kernel=rbf ..................................\n",
            "[CV] ...... C=0.1, gamma=0.001, kernel=rbf, score=0.849, total=   0.0s\n",
            "[CV] C=0.1, gamma=0.001, kernel=rbf ..................................\n",
            "[CV] ...... C=0.1, gamma=0.001, kernel=rbf, score=0.906, total=   0.0s\n",
            "[CV] C=0.1, gamma=0.001, kernel=rbf ..................................\n",
            "[CV] ...... C=0.1, gamma=0.001, kernel=rbf, score=0.918, total=   0.0s\n",
            "[CV] C=0.1, gamma=0.001, kernel=rbf ..................................\n",
            "[CV] ...... C=0.1, gamma=0.001, kernel=rbf, score=0.871, total=   0.0s\n",
            "[CV] C=0.1, gamma=0.0001, kernel=rbf .................................\n",
            "[CV] ..... C=0.1, gamma=0.0001, kernel=rbf, score=0.698, total=   0.0s\n",
            "[CV] C=0.1, gamma=0.0001, kernel=rbf .................................\n",
            "[CV] ..... C=0.1, gamma=0.0001, kernel=rbf, score=0.698, total=   0.0s\n",
            "[CV] C=0.1, gamma=0.0001, kernel=rbf .................................\n",
            "[CV] ..... C=0.1, gamma=0.0001, kernel=rbf, score=0.706, total=   0.0s\n",
            "[CV] C=0.1, gamma=0.0001, kernel=rbf .................................\n",
            "[CV] ..... C=0.1, gamma=0.0001, kernel=rbf, score=0.706, total=   0.0s\n",
            "[CV] C=0.1, gamma=0.0001, kernel=rbf .................................\n",
            "[CV] ..... C=0.1, gamma=0.0001, kernel=rbf, score=0.706, total=   0.0s\n",
            "[CV] C=1, gamma=1, kernel=rbf ........................................\n",
            "[CV] ............ C=1, gamma=1, kernel=rbf, score=0.907, total=   0.0s\n",
            "[CV] C=1, gamma=1, kernel=rbf ........................................\n",
            "[CV] ............ C=1, gamma=1, kernel=rbf, score=0.895, total=   0.0s\n",
            "[CV] C=1, gamma=1, kernel=rbf ........................................\n",
            "[CV] ............ C=1, gamma=1, kernel=rbf, score=0.929, total=   0.0s\n",
            "[CV] C=1, gamma=1, kernel=rbf ........................................\n",
            "[CV] ............ C=1, gamma=1, kernel=rbf, score=0.906, total=   0.0s\n",
            "[CV] C=1, gamma=1, kernel=rbf ........................................\n",
            "[CV] ............ C=1, gamma=1, kernel=rbf, score=0.953, total=   0.0s\n",
            "[CV] C=1, gamma=0.1, kernel=rbf ......................................\n",
            "[CV] .......... C=1, gamma=0.1, kernel=rbf, score=0.965, total=   0.0s\n",
            "[CV] C=1, gamma=0.1, kernel=rbf ......................................\n",
            "[CV] .......... C=1, gamma=0.1, kernel=rbf, score=0.977, total=   0.0s\n",
            "[CV] C=1, gamma=0.1, kernel=rbf ......................................\n",
            "[CV] .......... C=1, gamma=0.1, kernel=rbf, score=0.988, total=   0.0s\n",
            "[CV] C=1, gamma=0.1, kernel=rbf ......................................\n",
            "[CV] .......... C=1, gamma=0.1, kernel=rbf, score=0.988, total=   0.0s\n",
            "[CV] C=1, gamma=0.1, kernel=rbf ......................................\n",
            "[CV] .......... C=1, gamma=0.1, kernel=rbf, score=0.988, total=   0.0s\n",
            "[CV] C=1, gamma=0.01, kernel=rbf .....................................\n",
            "[CV] ......... C=1, gamma=0.01, kernel=rbf, score=0.977, total=   0.0s\n",
            "[CV] C=1, gamma=0.01, kernel=rbf .....................................\n",
            "[CV] ......... C=1, gamma=0.01, kernel=rbf, score=0.988, total=   0.0s\n",
            "[CV] C=1, gamma=0.01, kernel=rbf .....................................\n",
            "[CV] ......... C=1, gamma=0.01, kernel=rbf, score=0.988, total=   0.0s\n",
            "[CV] C=1, gamma=0.01, kernel=rbf .....................................\n",
            "[CV] ......... C=1, gamma=0.01, kernel=rbf, score=0.988, total=   0.0s\n",
            "[CV] C=1, gamma=0.01, kernel=rbf .....................................\n",
            "[CV] ......... C=1, gamma=0.01, kernel=rbf, score=0.976, total=   0.0s\n",
            "[CV] C=1, gamma=0.001, kernel=rbf ....................................\n",
            "[CV] ........ C=1, gamma=0.001, kernel=rbf, score=0.977, total=   0.0s\n",
            "[CV] C=1, gamma=0.001, kernel=rbf ....................................\n",
            "[CV] ........ C=1, gamma=0.001, kernel=rbf, score=0.977, total=   0.0s\n",
            "[CV] C=1, gamma=0.001, kernel=rbf ....................................\n",
            "[CV] ........ C=1, gamma=0.001, kernel=rbf, score=0.988, total=   0.0s\n",
            "[CV] C=1, gamma=0.001, kernel=rbf ....................................\n",
            "[CV] ........ C=1, gamma=0.001, kernel=rbf, score=0.976, total=   0.0s\n",
            "[CV] C=1, gamma=0.001, kernel=rbf ....................................\n"
          ],
          "name": "stdout"
        },
        {
          "output_type": "stream",
          "text": [
            "[Parallel(n_jobs=1)]: Using backend SequentialBackend with 1 concurrent workers.\n",
            "[Parallel(n_jobs=1)]: Done   1 out of   1 | elapsed:    0.0s remaining:    0.0s\n",
            "[Parallel(n_jobs=1)]: Done   2 out of   2 | elapsed:    0.0s remaining:    0.0s\n"
          ],
          "name": "stderr"
        },
        {
          "output_type": "stream",
          "text": [
            "[CV] ........ C=1, gamma=0.001, kernel=rbf, score=0.976, total=   0.0s\n",
            "[CV] C=1, gamma=0.0001, kernel=rbf ...................................\n",
            "[CV] ....... C=1, gamma=0.0001, kernel=rbf, score=0.837, total=   0.0s\n",
            "[CV] C=1, gamma=0.0001, kernel=rbf ...................................\n",
            "[CV] ....... C=1, gamma=0.0001, kernel=rbf, score=0.860, total=   0.0s\n",
            "[CV] C=1, gamma=0.0001, kernel=rbf ...................................\n",
            "[CV] ....... C=1, gamma=0.0001, kernel=rbf, score=0.965, total=   0.0s\n",
            "[CV] C=1, gamma=0.0001, kernel=rbf ...................................\n",
            "[CV] ....... C=1, gamma=0.0001, kernel=rbf, score=0.929, total=   0.0s\n",
            "[CV] C=1, gamma=0.0001, kernel=rbf ...................................\n",
            "[CV] ....... C=1, gamma=0.0001, kernel=rbf, score=0.871, total=   0.0s\n",
            "[CV] C=10, gamma=1, kernel=rbf .......................................\n",
            "[CV] ........... C=10, gamma=1, kernel=rbf, score=0.907, total=   0.0s\n",
            "[CV] C=10, gamma=1, kernel=rbf .......................................\n",
            "[CV] ........... C=10, gamma=1, kernel=rbf, score=0.895, total=   0.0s\n",
            "[CV] C=10, gamma=1, kernel=rbf .......................................\n",
            "[CV] ........... C=10, gamma=1, kernel=rbf, score=0.929, total=   0.0s\n",
            "[CV] C=10, gamma=1, kernel=rbf .......................................\n",
            "[CV] ........... C=10, gamma=1, kernel=rbf, score=0.906, total=   0.0s\n",
            "[CV] C=10, gamma=1, kernel=rbf .......................................\n",
            "[CV] ........... C=10, gamma=1, kernel=rbf, score=0.953, total=   0.0s\n",
            "[CV] C=10, gamma=0.1, kernel=rbf .....................................\n",
            "[CV] ......... C=10, gamma=0.1, kernel=rbf, score=0.965, total=   0.0s\n",
            "[CV] C=10, gamma=0.1, kernel=rbf .....................................\n",
            "[CV] ......... C=10, gamma=0.1, kernel=rbf, score=0.977, total=   0.0s\n",
            "[CV] C=10, gamma=0.1, kernel=rbf .....................................\n",
            "[CV] ......... C=10, gamma=0.1, kernel=rbf, score=0.988, total=   0.0s\n",
            "[CV] C=10, gamma=0.1, kernel=rbf .....................................\n",
            "[CV] ......... C=10, gamma=0.1, kernel=rbf, score=0.988, total=   0.0s\n",
            "[CV] C=10, gamma=0.1, kernel=rbf .....................................\n",
            "[CV] ......... C=10, gamma=0.1, kernel=rbf, score=0.988, total=   0.0s\n",
            "[CV] C=10, gamma=0.01, kernel=rbf ....................................\n",
            "[CV] ........ C=10, gamma=0.01, kernel=rbf, score=0.977, total=   0.0s\n",
            "[CV] C=10, gamma=0.01, kernel=rbf ....................................\n",
            "[CV] ........ C=10, gamma=0.01, kernel=rbf, score=0.988, total=   0.0s\n",
            "[CV] C=10, gamma=0.01, kernel=rbf ....................................\n",
            "[CV] ........ C=10, gamma=0.01, kernel=rbf, score=0.988, total=   0.0s\n",
            "[CV] C=10, gamma=0.01, kernel=rbf ....................................\n",
            "[CV] ........ C=10, gamma=0.01, kernel=rbf, score=0.976, total=   0.0s\n",
            "[CV] C=10, gamma=0.01, kernel=rbf ....................................\n",
            "[CV] ........ C=10, gamma=0.01, kernel=rbf, score=0.988, total=   0.0s\n",
            "[CV] C=10, gamma=0.001, kernel=rbf ...................................\n",
            "[CV] ....... C=10, gamma=0.001, kernel=rbf, score=0.977, total=   0.0s\n",
            "[CV] C=10, gamma=0.001, kernel=rbf ...................................\n",
            "[CV] ....... C=10, gamma=0.001, kernel=rbf, score=1.000, total=   0.0s\n",
            "[CV] C=10, gamma=0.001, kernel=rbf ...................................\n",
            "[CV] ....... C=10, gamma=0.001, kernel=rbf, score=0.988, total=   0.0s\n",
            "[CV] C=10, gamma=0.001, kernel=rbf ...................................\n",
            "[CV] ....... C=10, gamma=0.001, kernel=rbf, score=0.976, total=   0.0s\n",
            "[CV] C=10, gamma=0.001, kernel=rbf ...................................\n",
            "[CV] ....... C=10, gamma=0.001, kernel=rbf, score=1.000, total=   0.0s\n",
            "[CV] C=10, gamma=0.0001, kernel=rbf ..................................\n",
            "[CV] ...... C=10, gamma=0.0001, kernel=rbf, score=0.977, total=   0.0s\n",
            "[CV] C=10, gamma=0.0001, kernel=rbf ..................................\n",
            "[CV] ...... C=10, gamma=0.0001, kernel=rbf, score=0.977, total=   0.0s\n",
            "[CV] C=10, gamma=0.0001, kernel=rbf ..................................\n",
            "[CV] ...... C=10, gamma=0.0001, kernel=rbf, score=0.988, total=   0.0s\n",
            "[CV] C=10, gamma=0.0001, kernel=rbf ..................................\n",
            "[CV] ...... C=10, gamma=0.0001, kernel=rbf, score=0.976, total=   0.0s\n",
            "[CV] C=10, gamma=0.0001, kernel=rbf ..................................\n",
            "[CV] ...... C=10, gamma=0.0001, kernel=rbf, score=0.988, total=   0.0s\n",
            "[CV] C=100, gamma=1, kernel=rbf ......................................\n",
            "[CV] .......... C=100, gamma=1, kernel=rbf, score=0.907, total=   0.0s\n",
            "[CV] C=100, gamma=1, kernel=rbf ......................................\n",
            "[CV] .......... C=100, gamma=1, kernel=rbf, score=0.895, total=   0.0s\n",
            "[CV] C=100, gamma=1, kernel=rbf ......................................\n",
            "[CV] .......... C=100, gamma=1, kernel=rbf, score=0.929, total=   0.0s\n",
            "[CV] C=100, gamma=1, kernel=rbf ......................................\n",
            "[CV] .......... C=100, gamma=1, kernel=rbf, score=0.906, total=   0.0s\n",
            "[CV] C=100, gamma=1, kernel=rbf ......................................\n",
            "[CV] .......... C=100, gamma=1, kernel=rbf, score=0.953, total=   0.0s\n",
            "[CV] C=100, gamma=0.1, kernel=rbf ....................................\n",
            "[CV] ........ C=100, gamma=0.1, kernel=rbf, score=0.965, total=   0.0s\n",
            "[CV] C=100, gamma=0.1, kernel=rbf ....................................\n",
            "[CV] ........ C=100, gamma=0.1, kernel=rbf, score=0.977, total=   0.0s\n",
            "[CV] C=100, gamma=0.1, kernel=rbf ....................................\n",
            "[CV] ........ C=100, gamma=0.1, kernel=rbf, score=0.988, total=   0.0s\n",
            "[CV] C=100, gamma=0.1, kernel=rbf ....................................\n",
            "[CV] ........ C=100, gamma=0.1, kernel=rbf, score=0.988, total=   0.0s\n",
            "[CV] C=100, gamma=0.1, kernel=rbf ....................................\n",
            "[CV] ........ C=100, gamma=0.1, kernel=rbf, score=0.988, total=   0.0s\n",
            "[CV] C=100, gamma=0.01, kernel=rbf ...................................\n",
            "[CV] ....... C=100, gamma=0.01, kernel=rbf, score=0.988, total=   0.0s\n",
            "[CV] C=100, gamma=0.01, kernel=rbf ...................................\n",
            "[CV] ....... C=100, gamma=0.01, kernel=rbf, score=1.000, total=   0.0s\n",
            "[CV] C=100, gamma=0.01, kernel=rbf ...................................\n",
            "[CV] ....... C=100, gamma=0.01, kernel=rbf, score=0.988, total=   0.0s\n",
            "[CV] C=100, gamma=0.01, kernel=rbf ...................................\n",
            "[CV] ....... C=100, gamma=0.01, kernel=rbf, score=0.976, total=   0.0s\n",
            "[CV] C=100, gamma=0.01, kernel=rbf ...................................\n",
            "[CV] ....... C=100, gamma=0.01, kernel=rbf, score=0.988, total=   0.0s\n",
            "[CV] C=100, gamma=0.001, kernel=rbf ..................................\n",
            "[CV] ...... C=100, gamma=0.001, kernel=rbf, score=1.000, total=   0.0s\n",
            "[CV] C=100, gamma=0.001, kernel=rbf ..................................\n",
            "[CV] ...... C=100, gamma=0.001, kernel=rbf, score=1.000, total=   0.0s\n",
            "[CV] C=100, gamma=0.001, kernel=rbf ..................................\n",
            "[CV] ...... C=100, gamma=0.001, kernel=rbf, score=1.000, total=   0.0s\n",
            "[CV] C=100, gamma=0.001, kernel=rbf ..................................\n",
            "[CV] ...... C=100, gamma=0.001, kernel=rbf, score=0.965, total=   0.0s\n",
            "[CV] C=100, gamma=0.001, kernel=rbf ..................................\n",
            "[CV] ...... C=100, gamma=0.001, kernel=rbf, score=1.000, total=   0.0s\n",
            "[CV] C=100, gamma=0.0001, kernel=rbf .................................\n",
            "[CV] ..... C=100, gamma=0.0001, kernel=rbf, score=0.988, total=   0.0s\n",
            "[CV] C=100, gamma=0.0001, kernel=rbf .................................\n",
            "[CV] ..... C=100, gamma=0.0001, kernel=rbf, score=1.000, total=   0.0s\n",
            "[CV] C=100, gamma=0.0001, kernel=rbf .................................\n",
            "[CV] ..... C=100, gamma=0.0001, kernel=rbf, score=0.988, total=   0.0s\n",
            "[CV] C=100, gamma=0.0001, kernel=rbf .................................\n",
            "[CV] ..... C=100, gamma=0.0001, kernel=rbf, score=0.976, total=   0.0s\n",
            "[CV] C=100, gamma=0.0001, kernel=rbf .................................\n",
            "[CV] ..... C=100, gamma=0.0001, kernel=rbf, score=1.000, total=   0.0s\n",
            "[CV] C=1000, gamma=1, kernel=rbf .....................................\n",
            "[CV] ......... C=1000, gamma=1, kernel=rbf, score=0.907, total=   0.0s\n",
            "[CV] C=1000, gamma=1, kernel=rbf .....................................\n",
            "[CV] ......... C=1000, gamma=1, kernel=rbf, score=0.895, total=   0.0s\n",
            "[CV] C=1000, gamma=1, kernel=rbf .....................................\n",
            "[CV] ......... C=1000, gamma=1, kernel=rbf, score=0.929, total=   0.0s\n",
            "[CV] C=1000, gamma=1, kernel=rbf .....................................\n",
            "[CV] ......... C=1000, gamma=1, kernel=rbf, score=0.906, total=   0.0s\n",
            "[CV] C=1000, gamma=1, kernel=rbf .....................................\n",
            "[CV] ......... C=1000, gamma=1, kernel=rbf, score=0.953, total=   0.0s\n",
            "[CV] C=1000, gamma=0.1, kernel=rbf ...................................\n",
            "[CV] ....... C=1000, gamma=0.1, kernel=rbf, score=0.965, total=   0.0s\n",
            "[CV] C=1000, gamma=0.1, kernel=rbf ...................................\n",
            "[CV] ....... C=1000, gamma=0.1, kernel=rbf, score=0.977, total=   0.0s\n",
            "[CV] C=1000, gamma=0.1, kernel=rbf ...................................\n",
            "[CV] ....... C=1000, gamma=0.1, kernel=rbf, score=0.988, total=   0.0s\n",
            "[CV] C=1000, gamma=0.1, kernel=rbf ...................................\n",
            "[CV] ....... C=1000, gamma=0.1, kernel=rbf, score=0.988, total=   0.0s\n",
            "[CV] C=1000, gamma=0.1, kernel=rbf ...................................\n",
            "[CV] ....... C=1000, gamma=0.1, kernel=rbf, score=0.988, total=   0.0s\n",
            "[CV] C=1000, gamma=0.01, kernel=rbf ..................................\n",
            "[CV] ...... C=1000, gamma=0.01, kernel=rbf, score=0.988, total=   0.0s\n",
            "[CV] C=1000, gamma=0.01, kernel=rbf ..................................\n",
            "[CV] ...... C=1000, gamma=0.01, kernel=rbf, score=1.000, total=   0.0s\n",
            "[CV] C=1000, gamma=0.01, kernel=rbf ..................................\n",
            "[CV] ...... C=1000, gamma=0.01, kernel=rbf, score=0.988, total=   0.0s\n",
            "[CV] C=1000, gamma=0.01, kernel=rbf ..................................\n",
            "[CV] ...... C=1000, gamma=0.01, kernel=rbf, score=0.976, total=   0.0s\n",
            "[CV] C=1000, gamma=0.01, kernel=rbf ..................................\n",
            "[CV] ...... C=1000, gamma=0.01, kernel=rbf, score=0.988, total=   0.0s\n",
            "[CV] C=1000, gamma=0.001, kernel=rbf .................................\n",
            "[CV] ..... C=1000, gamma=0.001, kernel=rbf, score=0.988, total=   0.0s\n",
            "[CV] C=1000, gamma=0.001, kernel=rbf .................................\n",
            "[CV] ..... C=1000, gamma=0.001, kernel=rbf, score=1.000, total=   0.0s\n",
            "[CV] C=1000, gamma=0.001, kernel=rbf .................................\n",
            "[CV] ..... C=1000, gamma=0.001, kernel=rbf, score=1.000, total=   0.0s\n",
            "[CV] C=1000, gamma=0.001, kernel=rbf .................................\n",
            "[CV] ..... C=1000, gamma=0.001, kernel=rbf, score=0.976, total=   0.0s\n",
            "[CV] C=1000, gamma=0.001, kernel=rbf .................................\n",
            "[CV] ..... C=1000, gamma=0.001, kernel=rbf, score=1.000, total=   0.0s\n",
            "[CV] C=1000, gamma=0.0001, kernel=rbf ................................\n",
            "[CV] .... C=1000, gamma=0.0001, kernel=rbf, score=0.988, total=   0.0s\n",
            "[CV] C=1000, gamma=0.0001, kernel=rbf ................................\n",
            "[CV] .... C=1000, gamma=0.0001, kernel=rbf, score=1.000, total=   0.0s\n",
            "[CV] C=1000, gamma=0.0001, kernel=rbf ................................\n",
            "[CV] .... C=1000, gamma=0.0001, kernel=rbf, score=1.000, total=   0.0s\n",
            "[CV] C=1000, gamma=0.0001, kernel=rbf ................................\n",
            "[CV] .... C=1000, gamma=0.0001, kernel=rbf, score=0.976, total=   0.0s\n",
            "[CV] C=1000, gamma=0.0001, kernel=rbf ................................\n",
            "[CV] .... C=1000, gamma=0.0001, kernel=rbf, score=1.000, total=   0.0s\n",
            "SVC(C=1000, break_ties=False, cache_size=200, class_weight=None, coef0=0.0,\n",
            "    decision_function_shape='ovr', degree=3, gamma=0.001, kernel='rbf',\n",
            "    max_iter=-1, probability=False, random_state=None, shrinking=True,\n",
            "    tol=0.001, verbose=False)\n"
          ],
          "name": "stdout"
        },
        {
          "output_type": "stream",
          "text": [
            "[Parallel(n_jobs=1)]: Done 125 out of 125 | elapsed:    0.5s finished\n"
          ],
          "name": "stderr"
        }
      ]
    },
    {
      "cell_type": "code",
      "metadata": {
        "id": "gHvKdEHt6UeK",
        "colab_type": "code",
        "colab": {
          "base_uri": "https://localhost:8080/",
          "height": 34
        },
        "outputId": "b4e63d53-5f1a-4b9e-a39a-decb2d21314d"
      },
      "source": [
        "svm = SVC(C=1000, break_ties=False, cache_size=200, class_weight=None, coef0=0.0,\n",
        "    decision_function_shape='ovr', degree=3, gamma=0.001, kernel='rbf',\n",
        "    max_iter=-1, probability=False, random_state=None, shrinking=True,\n",
        "    tol=0.001, verbose=False)\n",
        "svm.fit(X_train, y_train)\n",
        "Y_pred = svm.predict(X_test)\n",
        "svmacc = svm.score(X_test, y_test)\n",
        "svmacc"
      ],
      "execution_count": 133,
      "outputs": [
        {
          "output_type": "execute_result",
          "data": {
            "text/plain": [
              "0.9836956521739131"
            ]
          },
          "metadata": {
            "tags": []
          },
          "execution_count": 133
        }
      ]
    },
    {
      "cell_type": "code",
      "metadata": {
        "id": "Ns7c4_la-gBE",
        "colab_type": "code",
        "colab": {
          "base_uri": "https://localhost:8080/",
          "height": 50
        },
        "outputId": "2af7e5a4-c42d-47e5-f764-74e68e20661a"
      },
      "source": [
        "from sklearn.metrics import confusion_matrix\n",
        "confusion_matrix(y_test,Y_pred)"
      ],
      "execution_count": 134,
      "outputs": [
        {
          "output_type": "execute_result",
          "data": {
            "text/plain": [
              "array([[123,   1],\n",
              "       [  2,  58]])"
            ]
          },
          "metadata": {
            "tags": []
          },
          "execution_count": 134
        }
      ]
    },
    {
      "cell_type": "markdown",
      "metadata": {
        "id": "R04E2GV27CQp",
        "colab_type": "text"
      },
      "source": [
        "# KNN"
      ]
    },
    {
      "cell_type": "code",
      "metadata": {
        "id": "Ax9jsnySAlN4",
        "colab_type": "code",
        "colab": {
          "base_uri": "https://localhost:8080/",
          "height": 84
        },
        "outputId": "dad1cb87-b652-4485-f64e-4a629b7f1a62"
      },
      "source": [
        "from sklearn.model_selection import GridSearchCV\n",
        "alphas =[1,2,3,4,5, 10, 15, 21, 31, 41, 51]\n",
        "\n",
        "param_grid = {'n_neighbors':alphas}\n",
        "grid = GridSearchCV(estimator = knn,param_grid=param_grid ,scoring = 'accuracy')\n",
        "grid.fit(X_train, y_train)\n",
        "\n",
        "\n",
        "print(grid.best_estimator_)\n",
        "print(grid.score(X_test, y_test))"
      ],
      "execution_count": 84,
      "outputs": [
        {
          "output_type": "stream",
          "text": [
            "KNeighborsClassifier(algorithm='auto', leaf_size=30, metric='minkowski',\n",
            "                     metric_params=None, n_jobs=None, n_neighbors=1, p=2,\n",
            "                     weights='uniform')\n",
            "0.9891304347826086\n"
          ],
          "name": "stdout"
        }
      ]
    },
    {
      "cell_type": "code",
      "metadata": {
        "id": "6eBS_JMT6Ubl",
        "colab_type": "code",
        "colab": {
          "base_uri": "https://localhost:8080/",
          "height": 34
        },
        "outputId": "fda85c0e-f7e8-4577-e5d0-f94d82be3b1d"
      },
      "source": [
        "knn = KNeighborsClassifier(algorithm='auto', leaf_size=30, metric='minkowski',\n",
        "                     metric_params=None, n_jobs=None, n_neighbors=1, p=2,\n",
        "                     weights='uniform')\n",
        "knn.fit(X_train, y_train)\n",
        "Y_pred = knn.predict(X_test)\n",
        "knnacc = knn.score(X_test, y_test)\n",
        "knnacc"
      ],
      "execution_count": 85,
      "outputs": [
        {
          "output_type": "execute_result",
          "data": {
            "text/plain": [
              "0.9891304347826086"
            ]
          },
          "metadata": {
            "tags": []
          },
          "execution_count": 85
        }
      ]
    },
    {
      "cell_type": "code",
      "metadata": {
        "id": "an7WU6ZO-i59",
        "colab_type": "code",
        "colab": {
          "base_uri": "https://localhost:8080/",
          "height": 50
        },
        "outputId": "f75f8a66-229c-45d3-c434-320c99f35a20"
      },
      "source": [
        "from sklearn.metrics import confusion_matrix\n",
        "confusion_matrix(y_test,Y_pred)"
      ],
      "execution_count": 86,
      "outputs": [
        {
          "output_type": "execute_result",
          "data": {
            "text/plain": [
              "array([[123,   1],\n",
              "       [  1,  59]])"
            ]
          },
          "metadata": {
            "tags": []
          },
          "execution_count": 86
        }
      ]
    },
    {
      "cell_type": "markdown",
      "metadata": {
        "id": "H1U5Pk7P7Rpm",
        "colab_type": "text"
      },
      "source": [
        "# Naive Bayes"
      ]
    },
    {
      "cell_type": "code",
      "metadata": {
        "id": "L79ospEP6UY4",
        "colab_type": "code",
        "colab": {
          "base_uri": "https://localhost:8080/",
          "height": 34
        },
        "outputId": "b3eaaf1a-e957-4364-a59f-1b048df81c1c"
      },
      "source": [
        "nb = GaussianNB()\n",
        "nb.fit(X_train, y_train)\n",
        "Y_pred = nb.predict(X_test)\n",
        "nbacc = nb.score(X_test, y_test)\n",
        "nbacc"
      ],
      "execution_count": 87,
      "outputs": [
        {
          "output_type": "execute_result",
          "data": {
            "text/plain": [
              "0.9510869565217391"
            ]
          },
          "metadata": {
            "tags": []
          },
          "execution_count": 87
        }
      ]
    },
    {
      "cell_type": "code",
      "metadata": {
        "id": "oQ7Tyd3e7oBy",
        "colab_type": "code",
        "colab": {
          "base_uri": "https://localhost:8080/",
          "height": 50
        },
        "outputId": "4f045c9f-882d-4333-9eb6-4dab08311c26"
      },
      "source": [
        "from sklearn.metrics import confusion_matrix\n",
        "confusion_matrix(y_test,Y_pred)"
      ],
      "execution_count": 68,
      "outputs": [
        {
          "output_type": "execute_result",
          "data": {
            "text/plain": [
              "array([[121,   3],\n",
              "       [  6,  54]])"
            ]
          },
          "metadata": {
            "tags": []
          },
          "execution_count": 68
        }
      ]
    },
    {
      "cell_type": "markdown",
      "metadata": {
        "id": "yYa8Ca3g7oiY",
        "colab_type": "text"
      },
      "source": [
        "# Decision Tree"
      ]
    },
    {
      "cell_type": "code",
      "metadata": {
        "id": "CNZAQLEnVh_z",
        "colab_type": "code",
        "colab": {
          "base_uri": "https://localhost:8080/",
          "height": 54
        },
        "outputId": "178d335a-da06-4b13-c861-155852682771"
      },
      "source": [
        "#n_components = list(range(1,X_train.shape[1]+1,1))\n",
        "criterion = ['gini', 'entropy']\n",
        "max_depth = [4,6,8,12]\n",
        "parameter = { 'criterion':criterion,'max_depth':max_depth}\n",
        "dt = DecisionTreeClassifier()\n",
        "clf = GridSearchCV(dt, parameter)\n",
        "\n",
        "clf.fit(X_train, y_train)\n",
        "\n",
        "print(clf.best_estimator_.get_params())\n"
      ],
      "execution_count": 128,
      "outputs": [
        {
          "output_type": "stream",
          "text": [
            "{'ccp_alpha': 0.0, 'class_weight': None, 'criterion': 'gini', 'max_depth': 8, 'max_features': None, 'max_leaf_nodes': None, 'min_impurity_decrease': 0.0, 'min_impurity_split': None, 'min_samples_leaf': 1, 'min_samples_split': 2, 'min_weight_fraction_leaf': 0.0, 'presort': 'deprecated', 'random_state': None, 'splitter': 'best'}\n"
          ],
          "name": "stdout"
        }
      ]
    },
    {
      "cell_type": "code",
      "metadata": {
        "id": "o2owe-WdG_1x",
        "colab_type": "code",
        "colab": {}
      },
      "source": [
        "alphas =[10**-4, 10**-3,10**-2,10**-1,10**0,10,10**2,10**3,10**4]\n",
        "\n",
        "param_grid = {'alpha':alphas}\n",
        "grid = GridSearchCV(estimator = sgd,param_grid=param_grid ,scoring = 'roc_auc')\n",
        "grid.fit(X_train_tfidf, y_train)\n",
        "\n",
        "\n",
        "print(clf.best_estimator_.get_params()['decisiontree'])\n"
      ],
      "execution_count": 0,
      "outputs": []
    },
    {
      "cell_type": "code",
      "metadata": {
        "id": "VKksO3sd6UW4",
        "colab_type": "code",
        "colab": {
          "base_uri": "https://localhost:8080/",
          "height": 34
        },
        "outputId": "cbd09ffb-4e88-494b-b0cc-be8b2730290e"
      },
      "source": [
        "dt = DecisionTreeClassifier(ccp_alpha= 0.0, class_weight= None, criterion= 'gini', max_depth=8, max_features=None, max_leaf_nodes=None, min_impurity_decrease= 0.0, min_impurity_split= None, min_samples_leaf= 1, min_samples_split= 2, min_weight_fraction_leaf= 0.0, presort= 'deprecated', random_state= None, splitter= 'best')\n",
        "dt.fit(X_train, y_train)\n",
        "Y_pred = dt.predict(X_test)\n",
        "dtacc = dt.score(X_test, y_test)\n",
        "dtacc"
      ],
      "execution_count": 130,
      "outputs": [
        {
          "output_type": "execute_result",
          "data": {
            "text/plain": [
              "0.9836956521739131"
            ]
          },
          "metadata": {
            "tags": []
          },
          "execution_count": 130
        }
      ]
    },
    {
      "cell_type": "code",
      "metadata": {
        "id": "2bfHldZP-pH_",
        "colab_type": "code",
        "colab": {
          "base_uri": "https://localhost:8080/",
          "height": 50
        },
        "outputId": "6c1cba7e-ff9d-444a-92e3-41daffa8ad7d"
      },
      "source": [
        "from sklearn.metrics import confusion_matrix\n",
        "confusion_matrix(y_test,Y_pred)"
      ],
      "execution_count": 131,
      "outputs": [
        {
          "output_type": "execute_result",
          "data": {
            "text/plain": [
              "array([[124,   0],\n",
              "       [  3,  57]])"
            ]
          },
          "metadata": {
            "tags": []
          },
          "execution_count": 131
        }
      ]
    },
    {
      "cell_type": "markdown",
      "metadata": {
        "id": "dfJ2PreM789m",
        "colab_type": "text"
      },
      "source": [
        "# Random Forest"
      ]
    },
    {
      "cell_type": "code",
      "metadata": {
        "id": "RSU5JJcWMfgM",
        "colab_type": "code",
        "colab": {}
      },
      "source": [
        "from sklearn.model_selection import train_test_split, GridSearchCV, StratifiedKFold"
      ],
      "execution_count": 0,
      "outputs": []
    },
    {
      "cell_type": "code",
      "metadata": {
        "id": "-9yX79nuEVJv",
        "colab_type": "code",
        "colab": {}
      },
      "source": [
        "max_depth=[1, 5, 10, 50, 100, 500, 1000]\n",
        "n_estimators =[5, 10, 100, 500]\n",
        "max_features =[3, 5, 10, 20]\n",
        "min_samples_split =[3, 5, 10]\n"
      ],
      "execution_count": 0,
      "outputs": []
    },
    {
      "cell_type": "code",
      "metadata": {
        "id": "aJtqYbI-CCtH",
        "colab_type": "code",
        "colab": {
          "base_uri": "https://localhost:8080/",
          "height": 134
        },
        "outputId": "b1b675ff-93f5-4758-c145-45ca0e2984ca"
      },
      "source": [
        "from sklearn.model_selection import GridSearchCV\n",
        "clf = RandomForestClassifier(random_state=0)\n",
        "parameter = {'n_estimators':n_estimators, 'max_depth':max_depth,'max_features':max_features,'min_samples_split':min_samples_split}\n",
        "clf = GridSearchCV(RandomForestClassifier(),parameter,verbose=1,scoring='accuracy',n_jobs=-1)\n",
        "clf.fit(X_train,y_train)\n",
        "estimator_opt, depth_opt,features_opt,samples_split_opt = clf.best_params_.get('n_estimators'), clf.best_params_.get('max_depth'),clf.best_params_.get('max_features'),clf.best_params_.get('min_samples_split')\n"
      ],
      "execution_count": 120,
      "outputs": [
        {
          "output_type": "stream",
          "text": [
            "Fitting 5 folds for each of 336 candidates, totalling 1680 fits\n"
          ],
          "name": "stdout"
        },
        {
          "output_type": "stream",
          "text": [
            "[Parallel(n_jobs=-1)]: Using backend LokyBackend with 2 concurrent workers.\n",
            "[Parallel(n_jobs=-1)]: Done  80 tasks      | elapsed:   14.3s\n",
            "[Parallel(n_jobs=-1)]: Done 322 tasks      | elapsed:   43.4s\n",
            "[Parallel(n_jobs=-1)]: Done 820 tasks      | elapsed:  1.8min\n",
            "[Parallel(n_jobs=-1)]: Done 1510 tasks      | elapsed:  3.1min\n",
            "[Parallel(n_jobs=-1)]: Done 1680 out of 1680 | elapsed:  3.4min finished\n"
          ],
          "name": "stderr"
        }
      ]
    },
    {
      "cell_type": "code",
      "metadata": {
        "id": "0yfzvWd6GV91",
        "colab_type": "code",
        "colab": {
          "base_uri": "https://localhost:8080/",
          "height": 34
        },
        "outputId": "5fe3c3dc-ae84-4720-bd5c-2468e19905d4"
      },
      "source": [
        "print(\"The optimal value of n_estimator = \", estimator_opt , \" And max_depth is : \", depth_opt,\" And max_features is : \", features_opt,\" And min_samples_split is : \", samples_split_opt)"
      ],
      "execution_count": 121,
      "outputs": [
        {
          "output_type": "stream",
          "text": [
            "The optimal value of n_estimator =  500  And max_depth is :  100  And max_features is :  5  And min_samples_split is :  3\n"
          ],
          "name": "stdout"
        }
      ]
    },
    {
      "cell_type": "code",
      "metadata": {
        "id": "VmgtFSEW6UUU",
        "colab_type": "code",
        "colab": {
          "base_uri": "https://localhost:8080/",
          "height": 34
        },
        "outputId": "1398a8ff-24c6-4993-8e32-9208501a94b8"
      },
      "source": [
        "rf = RandomForestClassifier(n_estimators=5,max_depth=500,min_samples_split=3,max_features=5)\n",
        "rf.fit(X_train, y_train)\n",
        "Y_pred = rf.predict(X_test)\n",
        "rfacc = rf.score(X_train, y_train)\n",
        "rfacc"
      ],
      "execution_count": 146,
      "outputs": [
        {
          "output_type": "execute_result",
          "data": {
            "text/plain": [
              "0.9953161592505855"
            ]
          },
          "metadata": {
            "tags": []
          },
          "execution_count": 146
        }
      ]
    },
    {
      "cell_type": "code",
      "metadata": {
        "id": "_QL1bTqz-rzf",
        "colab_type": "code",
        "colab": {
          "base_uri": "https://localhost:8080/",
          "height": 50
        },
        "outputId": "73d2b101-862e-44fc-a9a4-bebf1a35b3ce"
      },
      "source": [
        "from sklearn.metrics import confusion_matrix\n",
        "confusion_matrix(y_test,Y_pred)"
      ],
      "execution_count": 123,
      "outputs": [
        {
          "output_type": "execute_result",
          "data": {
            "text/plain": [
              "array([[124,   0],\n",
              "       [  4,  56]])"
            ]
          },
          "metadata": {
            "tags": []
          },
          "execution_count": 123
        }
      ]
    },
    {
      "cell_type": "code",
      "metadata": {
        "id": "3-3Lv8qeGYPj",
        "colab_type": "code",
        "colab": {
          "base_uri": "https://localhost:8080/",
          "height": 202
        },
        "outputId": "0bcc4b6c-d607-4a95-ed15-f26f066c4da0"
      },
      "source": [
        "from prettytable import PrettyTable\n",
        "print(\"BOW and TFIDF without Feature engineering\")   \n",
        "a = PrettyTable()\n",
        "\n",
        "a.field_names = [\"Model\",\"Accuracy\"]\n",
        "\n",
        "a.add_row([\"Logistic Regression\", 0.9891])\n",
        "a.add_row([\"SVM\",0.9836])\n",
        "a.add_row([\"KNN\",0.9891])\n",
        "a.add_row([\"Naive Bayes\",0.9510])\n",
        "a.add_row([\"Decision Tree\",0.9836])\n",
        "a.add_row([\"Random Forest\",0.9906])\n",
        "print(a)"
      ],
      "execution_count": 144,
      "outputs": [
        {
          "output_type": "stream",
          "text": [
            "BOW and TFIDF without Feature engineering\n",
            "+---------------------+----------+\n",
            "|        Model        | Accuracy |\n",
            "+---------------------+----------+\n",
            "| Logistic Regression |  0.9891  |\n",
            "|         SVM         |  0.9836  |\n",
            "|         KNN         |  0.9891  |\n",
            "|     Naive Bayes     |  0.951   |\n",
            "|    Decision Tree    |  0.9836  |\n",
            "|    Random Forest    |  0.9906  |\n",
            "+---------------------+----------+\n"
          ],
          "name": "stdout"
        }
      ]
    },
    {
      "cell_type": "markdown",
      "metadata": {
        "id": "fgWajV10ca82",
        "colab_type": "text"
      },
      "source": [
        "# Observation:\n",
        "Random forest is the best model "
      ]
    },
    {
      "cell_type": "markdown",
      "metadata": {
        "id": "lkyB6hScdTq6",
        "colab_type": "text"
      },
      "source": [
        "# Evaluation"
      ]
    },
    {
      "cell_type": "code",
      "metadata": {
        "id": "Zamr4O_PglmC",
        "colab_type": "code",
        "colab": {}
      },
      "source": [
        "df = pd.read_excel ('/content/drive/My Drive/task/Data_Science_2020_v2.xlsx')"
      ],
      "execution_count": 0,
      "outputs": []
    },
    {
      "cell_type": "code",
      "metadata": {
        "id": "yeOK6T07dS1v",
        "colab_type": "code",
        "colab": {}
      },
      "source": [
        "Y_pred=rf.predict(x)"
      ],
      "execution_count": 0,
      "outputs": []
    },
    {
      "cell_type": "code",
      "metadata": {
        "id": "Z1RE70cdg_0h",
        "colab_type": "code",
        "colab": {}
      },
      "source": [
        "Y_pred"
      ],
      "execution_count": 0,
      "outputs": []
    },
    {
      "cell_type": "code",
      "metadata": {
        "id": "C7i7-ciy6UR4",
        "colab_type": "code",
        "colab": {}
      },
      "source": [
        "df['True_Y']=y_true\n",
        "df['pred_Y']=Y_pred"
      ],
      "execution_count": 0,
      "outputs": []
    },
    {
      "cell_type": "code",
      "metadata": {
        "id": "B3wvFBaC6UPH",
        "colab_type": "code",
        "colab": {}
      },
      "source": [
        "df.to_csv('taskresults.csv',index=False)\n",
        "from google.colab import files\n",
        "files.download('taskresults.csv')"
      ],
      "execution_count": 0,
      "outputs": []
    },
    {
      "cell_type": "code",
      "metadata": {
        "id": "WmffVLhs6UMK",
        "colab_type": "code",
        "colab": {}
      },
      "source": [
        ""
      ],
      "execution_count": 0,
      "outputs": []
    }
  ]
}